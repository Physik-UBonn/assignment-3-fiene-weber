{
 "cells": [
  {
   "cell_type": "markdown",
   "id": "6925826c",
   "metadata": {},
   "source": [
    "# H.4] Imaginary Time Evolution\n",
    "d) Numerically integrate random initial state up to certain time $\\tau_{\\text{max}}$"
   ]
  },
  {
   "cell_type": "code",
   "execution_count": 8,
   "id": "8287783b",
   "metadata": {},
   "outputs": [],
   "source": [
    "import numpy as np\n",
    "import matplotlib.pyplot as plt\n",
    "from scipy.integrate import solve_ivp\n",
    "from functools import reduce\n",
    "from scipy.sparse import identity, kron, csr_matrix\n",
    "from scipy.linalg import expm, eigh\n",
    "from scipy.sparse.linalg import expm_multiply"
   ]
  },
  {
   "cell_type": "code",
   "execution_count": 2,
   "id": "06389d42",
   "metadata": {},
   "outputs": [],
   "source": [
    "# Set parameters\n",
    "N = 4\n",
    "tau_max = 10_000\n",
    "Nsteps = 1000\n",
    "dt = tau_max/Nsteps"
   ]
  },
  {
   "cell_type": "code",
   "execution_count": 3,
   "id": "d04ed287",
   "metadata": {},
   "outputs": [
    {
     "name": "stdout",
     "output_type": "stream",
     "text": [
      "Initial state |psi(0)> =  [ 0.42472527+0.j -0.32745885+0.j  0.13756585+0.j  0.24896666+0.j\n",
      "  0.21591819+0.j -0.39640004+0.j  0.41888496+0.j  0.06432789+0.j\n",
      " -0.05436236+0.j -0.31680814+0.j -0.32977791+0.j  0.02723462+0.j\n",
      " -0.12376075+0.j  0.12815219+0.j -0.03119488+0.j  0.05082676+0.j]\n"
     ]
    }
   ],
   "source": [
    "# Create random initial state\n",
    "psi0 = np.random.randn(2**N) + 1j*np.zeros(2**N)\n",
    "\n",
    "# Normalize\n",
    "psi0 /= np.linalg.norm(psi0) \n",
    "print('Initial state |psi(0)> = ', psi0)"
   ]
  },
  {
   "cell_type": "code",
   "execution_count": 32,
   "id": "b8ac4135",
   "metadata": {},
   "outputs": [],
   "source": [
    "# Create Hamiltonian as matrix as done in last sheet:\n",
    "\n",
    "# Create csr Pauli matrices\n",
    "id = identity(2, format='csr')\n",
    "sigma_x = csr_matrix([[0, 1], [1, 0]], dtype=np.float64)\n",
    "sigma_z = csr_matrix([[1, 0], [0, -1]], dtype=np.float64)\n",
    "\n",
    "def kronecker(operators):\n",
    "    # reduce calls the function (first arg) recursively on the list (second arg)\n",
    "    return reduce(kron, operators)\n",
    "\n",
    "def build_operator(operator, ind, L):\n",
    "    # list of L identity operators\n",
    "    operators = [id] * L\n",
    "\n",
    "    # replace the ind-th operator with the given operator\n",
    "    operators[ind] = operator\n",
    "\n",
    "    # return the kronecker product of all identity matrices and the operator on site ind\n",
    "    return csr_matrix(kronecker(operators))\n",
    "\n",
    "def all_operators(operator):\n",
    "    # a list of L operators, each one acting on a different site, otherwise identity\n",
    "    return [build_operator(operator, j, N) for j in range(N)]\n",
    "\n",
    "def Hamiltonian(h=1, J=1, N=4):\n",
    "    # initialize matrices\n",
    "    H = csr_matrix((2**N, 2**N), dtype=np.complex128)\n",
    "    sz_list = all_operators(sigma_z)\n",
    "    sx_list = all_operators(sigma_x)\n",
    "\n",
    "    for i in range(N-1):\n",
    "        H += -J*(sz_list[i] @ sz_list[i+1]) - h*(sx_list[i])\n",
    "    return H"
   ]
  },
  {
   "cell_type": "code",
   "execution_count": 22,
   "id": "79147fe9",
   "metadata": {},
   "outputs": [],
   "source": [
    "# Define derivative using imaginary time SEQ\n",
    "def dpsi_dtau(tau, psi, h=1, J=1):\n",
    "    psi = psi.view(dtype=np.complex128) / np.linalg.norm(psi.view(dtype=np.complex128))\n",
    "    return (-Hamiltonian(h,J) @ psi).view(dtype=np.float64) \n",
    "\n",
    "# Numerically integrate this state\n",
    "sol = solve_ivp(dpsi_dtau, t_span = (0, tau_max), y0 = psi0.view(dtype=np.float64), t_eval=np.linspace(0, tau_max, Nsteps))\n",
    "\n",
    "# Normalize wave functions of each step dt\n",
    "psi_tau_list = sol.y.T.copy().view(dtype=np.complex128)   # copy to ensure that the memory is laid out contiguously before using changing the data type to complex128\n",
    "\n",
    "# note: normalization should take place in every step here, however, we are not running into numerical issues\n",
    "# print(np.array([np.linalg.norm(psi) for psi in psi_tau_list]))\n",
    "# print(np.linalg.norm(psi_tau_list, axis=1))\n",
    "psi_tau_normalized = np.array([psi / np.linalg.norm(psi) for psi in psi_tau_list])"
   ]
  },
  {
   "cell_type": "code",
   "execution_count": 34,
   "id": "da556beb",
   "metadata": {},
   "outputs": [
    {
     "name": "stdout",
     "output_type": "stream",
     "text": [
      "[[-3.+0.j  0.+0.j -2.+0.j  0.+0.j -2.+0.j  0.+0.j  0.+0.j  0.+0.j -2.+0.j\n",
      "   0.+0.j  0.+0.j  0.+0.j  0.+0.j  0.+0.j  0.+0.j  0.+0.j]\n",
      " [ 0.+0.j -1.+0.j  0.+0.j -2.+0.j  0.+0.j -2.+0.j  0.+0.j  0.+0.j  0.+0.j\n",
      "  -2.+0.j  0.+0.j  0.+0.j  0.+0.j  0.+0.j  0.+0.j  0.+0.j]\n",
      " [-2.+0.j  0.+0.j  1.+0.j  0.+0.j  0.+0.j  0.+0.j -2.+0.j  0.+0.j  0.+0.j\n",
      "   0.+0.j -2.+0.j  0.+0.j  0.+0.j  0.+0.j  0.+0.j  0.+0.j]\n",
      " [ 0.+0.j -2.+0.j  0.+0.j -1.+0.j  0.+0.j  0.+0.j  0.+0.j -2.+0.j  0.+0.j\n",
      "   0.+0.j  0.+0.j -2.+0.j  0.+0.j  0.+0.j  0.+0.j  0.+0.j]\n",
      " [-2.+0.j  0.+0.j  0.+0.j  0.+0.j  1.+0.j  0.+0.j -2.+0.j  0.+0.j  0.+0.j\n",
      "   0.+0.j  0.+0.j  0.+0.j -2.+0.j  0.+0.j  0.+0.j  0.+0.j]\n",
      " [ 0.+0.j -2.+0.j  0.+0.j  0.+0.j  0.+0.j  3.+0.j  0.+0.j -2.+0.j  0.+0.j\n",
      "   0.+0.j  0.+0.j  0.+0.j  0.+0.j -2.+0.j  0.+0.j  0.+0.j]\n",
      " [ 0.+0.j  0.+0.j -2.+0.j  0.+0.j -2.+0.j  0.+0.j  1.+0.j  0.+0.j  0.+0.j\n",
      "   0.+0.j  0.+0.j  0.+0.j  0.+0.j  0.+0.j -2.+0.j  0.+0.j]\n",
      " [ 0.+0.j  0.+0.j  0.+0.j -2.+0.j  0.+0.j -2.+0.j  0.+0.j -1.+0.j  0.+0.j\n",
      "   0.+0.j  0.+0.j  0.+0.j  0.+0.j  0.+0.j  0.+0.j -2.+0.j]\n",
      " [-2.+0.j  0.+0.j  0.+0.j  0.+0.j  0.+0.j  0.+0.j  0.+0.j  0.+0.j -1.+0.j\n",
      "   0.+0.j -2.+0.j  0.+0.j -2.+0.j  0.+0.j  0.+0.j  0.+0.j]\n",
      " [ 0.+0.j -2.+0.j  0.+0.j  0.+0.j  0.+0.j  0.+0.j  0.+0.j  0.+0.j  0.+0.j\n",
      "   1.+0.j  0.+0.j -2.+0.j  0.+0.j -2.+0.j  0.+0.j  0.+0.j]\n",
      " [ 0.+0.j  0.+0.j -2.+0.j  0.+0.j  0.+0.j  0.+0.j  0.+0.j  0.+0.j -2.+0.j\n",
      "   0.+0.j  3.+0.j  0.+0.j  0.+0.j  0.+0.j -2.+0.j  0.+0.j]\n",
      " [ 0.+0.j  0.+0.j  0.+0.j -2.+0.j  0.+0.j  0.+0.j  0.+0.j  0.+0.j  0.+0.j\n",
      "  -2.+0.j  0.+0.j  1.+0.j  0.+0.j  0.+0.j  0.+0.j -2.+0.j]\n",
      " [ 0.+0.j  0.+0.j  0.+0.j  0.+0.j -2.+0.j  0.+0.j  0.+0.j  0.+0.j -2.+0.j\n",
      "   0.+0.j  0.+0.j  0.+0.j -1.+0.j  0.+0.j -2.+0.j  0.+0.j]\n",
      " [ 0.+0.j  0.+0.j  0.+0.j  0.+0.j  0.+0.j -2.+0.j  0.+0.j  0.+0.j  0.+0.j\n",
      "  -2.+0.j  0.+0.j  0.+0.j  0.+0.j  1.+0.j  0.+0.j -2.+0.j]\n",
      " [ 0.+0.j  0.+0.j  0.+0.j  0.+0.j  0.+0.j  0.+0.j -2.+0.j  0.+0.j  0.+0.j\n",
      "   0.+0.j -2.+0.j  0.+0.j -2.+0.j  0.+0.j -1.+0.j  0.+0.j]\n",
      " [ 0.+0.j  0.+0.j  0.+0.j  0.+0.j  0.+0.j  0.+0.j  0.+0.j -2.+0.j  0.+0.j\n",
      "   0.+0.j  0.+0.j -2.+0.j  0.+0.j -2.+0.j  0.+0.j -3.+0.j]]\n",
      "[-6.50762639 -6.50762639 -3.56037487 -3.56037487 -2.03549043 -2.03549043\n",
      " -0.91176108 -0.91176108  0.91176108  0.91176108  2.03549043  2.03549043\n",
      "  3.56037487  3.56037487  6.50762639  6.50762639]\n"
     ]
    }
   ],
   "source": [
    "H = Hamiltonian(h=2, J=1)\n",
    "H = H.todense()\n",
    "print(H)\n",
    "\n",
    "e, v = eigh(H)\n",
    "print(e)"
   ]
  },
  {
   "cell_type": "code",
   "execution_count": 23,
   "id": "d113596c",
   "metadata": {},
   "outputs": [],
   "source": [
    "def compute_ground_overlap(psi, H_dense):\n",
    "    eigvals, eigvecs = eigh(H_dense)\n",
    "    delta = np.abs(eigvals[1] - eigvals[0])\n",
    "\n",
    "    if delta < 1e-10:\n",
    "        v1, v2 = eigvecs[:, 0], eigvecs[:, 1]\n",
    "        proj = np.abs(np.vdot(v1, psi))**2 + np.abs(np.vdot(v2, psi))**2\n",
    "        print(f\"Warning: Ground state degeneracy detected. Delta = {delta:.2e}\")\n",
    "    else:\n",
    "        v1 = eigvecs[:, 0]\n",
    "        proj = np.abs(np.vdot(v1, psi))**2\n",
    "    return proj"
   ]
  },
  {
   "cell_type": "code",
   "execution_count": 29,
   "id": "64343d1d",
   "metadata": {},
   "outputs": [
    {
     "name": "stdout",
     "output_type": "stream",
     "text": [
      "Warning: Ground state degeneracy detected. Delta = 9.77e-15\n",
      "Warning: Ground state degeneracy detected. Delta = 9.77e-15\n",
      "Warning: Ground state degeneracy detected. Delta = 9.77e-15\n",
      "Warning: Ground state degeneracy detected. Delta = 9.77e-15\n",
      "Warning: Ground state degeneracy detected. Delta = 9.77e-15\n",
      "Warning: Ground state degeneracy detected. Delta = 9.77e-15\n",
      "Warning: Ground state degeneracy detected. Delta = 9.77e-15\n",
      "Warning: Ground state degeneracy detected. Delta = 9.77e-15\n",
      "Warning: Ground state degeneracy detected. Delta = 9.77e-15\n",
      "Warning: Ground state degeneracy detected. Delta = 9.77e-15\n",
      "Warning: Ground state degeneracy detected. Delta = 9.77e-15\n",
      "Warning: Ground state degeneracy detected. Delta = 9.77e-15\n",
      "Warning: Ground state degeneracy detected. Delta = 9.77e-15\n",
      "Warning: Ground state degeneracy detected. Delta = 9.77e-15\n",
      "Warning: Ground state degeneracy detected. Delta = 9.77e-15\n",
      "Warning: Ground state degeneracy detected. Delta = 9.77e-15\n",
      "Warning: Ground state degeneracy detected. Delta = 9.77e-15\n",
      "Warning: Ground state degeneracy detected. Delta = 9.77e-15\n",
      "Warning: Ground state degeneracy detected. Delta = 9.77e-15\n",
      "Warning: Ground state degeneracy detected. Delta = 9.77e-15\n",
      "Warning: Ground state degeneracy detected. Delta = 9.77e-15\n",
      "Warning: Ground state degeneracy detected. Delta = 9.77e-15\n",
      "Warning: Ground state degeneracy detected. Delta = 9.77e-15\n",
      "Warning: Ground state degeneracy detected. Delta = 9.77e-15\n",
      "Warning: Ground state degeneracy detected. Delta = 9.77e-15\n",
      "Warning: Ground state degeneracy detected. Delta = 9.77e-15\n",
      "Warning: Ground state degeneracy detected. Delta = 9.77e-15\n",
      "Warning: Ground state degeneracy detected. Delta = 9.77e-15\n",
      "Warning: Ground state degeneracy detected. Delta = 9.77e-15\n",
      "Warning: Ground state degeneracy detected. Delta = 9.77e-15\n",
      "Warning: Ground state degeneracy detected. Delta = 9.77e-15\n",
      "Warning: Ground state degeneracy detected. Delta = 9.77e-15\n",
      "Warning: Ground state degeneracy detected. Delta = 9.77e-15\n",
      "Warning: Ground state degeneracy detected. Delta = 9.77e-15\n",
      "Warning: Ground state degeneracy detected. Delta = 9.77e-15\n",
      "Warning: Ground state degeneracy detected. Delta = 9.77e-15\n",
      "Warning: Ground state degeneracy detected. Delta = 9.77e-15\n",
      "Warning: Ground state degeneracy detected. Delta = 9.77e-15\n",
      "Warning: Ground state degeneracy detected. Delta = 9.77e-15\n",
      "Warning: Ground state degeneracy detected. Delta = 9.77e-15\n",
      "Warning: Ground state degeneracy detected. Delta = 9.77e-15\n",
      "Warning: Ground state degeneracy detected. Delta = 9.77e-15\n",
      "Warning: Ground state degeneracy detected. Delta = 9.77e-15\n",
      "Warning: Ground state degeneracy detected. Delta = 9.77e-15\n",
      "Warning: Ground state degeneracy detected. Delta = 9.77e-15\n",
      "Warning: Ground state degeneracy detected. Delta = 9.77e-15\n",
      "Warning: Ground state degeneracy detected. Delta = 9.77e-15\n",
      "Warning: Ground state degeneracy detected. Delta = 9.77e-15\n",
      "Warning: Ground state degeneracy detected. Delta = 9.77e-15\n",
      "Warning: Ground state degeneracy detected. Delta = 9.77e-15\n",
      "Warning: Ground state degeneracy detected. Delta = 9.77e-15\n",
      "Warning: Ground state degeneracy detected. Delta = 9.77e-15\n",
      "Warning: Ground state degeneracy detected. Delta = 9.77e-15\n",
      "Warning: Ground state degeneracy detected. Delta = 9.77e-15\n",
      "Warning: Ground state degeneracy detected. Delta = 9.77e-15\n",
      "Warning: Ground state degeneracy detected. Delta = 9.77e-15\n",
      "Warning: Ground state degeneracy detected. Delta = 9.77e-15\n",
      "Warning: Ground state degeneracy detected. Delta = 9.77e-15\n",
      "Warning: Ground state degeneracy detected. Delta = 9.77e-15\n",
      "Warning: Ground state degeneracy detected. Delta = 9.77e-15\n",
      "Warning: Ground state degeneracy detected. Delta = 9.77e-15\n",
      "Warning: Ground state degeneracy detected. Delta = 9.77e-15\n",
      "Warning: Ground state degeneracy detected. Delta = 9.77e-15\n",
      "Warning: Ground state degeneracy detected. Delta = 9.77e-15\n",
      "Warning: Ground state degeneracy detected. Delta = 9.77e-15\n",
      "Warning: Ground state degeneracy detected. Delta = 9.77e-15\n",
      "Warning: Ground state degeneracy detected. Delta = 9.77e-15\n",
      "Warning: Ground state degeneracy detected. Delta = 9.77e-15\n",
      "Warning: Ground state degeneracy detected. Delta = 9.77e-15\n",
      "Warning: Ground state degeneracy detected. Delta = 9.77e-15\n",
      "Warning: Ground state degeneracy detected. Delta = 9.77e-15\n",
      "Warning: Ground state degeneracy detected. Delta = 9.77e-15\n",
      "Warning: Ground state degeneracy detected. Delta = 9.77e-15\n",
      "Warning: Ground state degeneracy detected. Delta = 9.77e-15\n",
      "Warning: Ground state degeneracy detected. Delta = 9.77e-15\n",
      "Warning: Ground state degeneracy detected. Delta = 9.77e-15\n",
      "Warning: Ground state degeneracy detected. Delta = 9.77e-15\n",
      "Warning: Ground state degeneracy detected. Delta = 9.77e-15\n",
      "Warning: Ground state degeneracy detected. Delta = 9.77e-15\n",
      "Warning: Ground state degeneracy detected. Delta = 9.77e-15\n",
      "Warning: Ground state degeneracy detected. Delta = 9.77e-15\n",
      "Warning: Ground state degeneracy detected. Delta = 9.77e-15\n",
      "Warning: Ground state degeneracy detected. Delta = 9.77e-15\n",
      "Warning: Ground state degeneracy detected. Delta = 9.77e-15\n",
      "Warning: Ground state degeneracy detected. Delta = 9.77e-15\n",
      "Warning: Ground state degeneracy detected. Delta = 9.77e-15\n",
      "Warning: Ground state degeneracy detected. Delta = 9.77e-15\n",
      "Warning: Ground state degeneracy detected. Delta = 9.77e-15\n",
      "Warning: Ground state degeneracy detected. Delta = 9.77e-15\n",
      "Warning: Ground state degeneracy detected. Delta = 9.77e-15\n",
      "Warning: Ground state degeneracy detected. Delta = 9.77e-15\n",
      "Warning: Ground state degeneracy detected. Delta = 9.77e-15\n",
      "Warning: Ground state degeneracy detected. Delta = 9.77e-15\n",
      "Warning: Ground state degeneracy detected. Delta = 9.77e-15\n",
      "Warning: Ground state degeneracy detected. Delta = 9.77e-15\n",
      "Warning: Ground state degeneracy detected. Delta = 9.77e-15\n",
      "Warning: Ground state degeneracy detected. Delta = 9.77e-15\n",
      "Warning: Ground state degeneracy detected. Delta = 9.77e-15\n",
      "Warning: Ground state degeneracy detected. Delta = 9.77e-15\n",
      "Warning: Ground state degeneracy detected. Delta = 9.77e-15\n"
     ]
    }
   ],
   "source": [
    "# Parameters\n",
    "L = 4\n",
    "T = 10.0\n",
    "h, J = 2.0, 1.0\n",
    "timesteps = 100\n",
    "times = np.linspace(0, T, timesteps)\n",
    "dt = times[1] - times[0]\n",
    "\n",
    "# Initial state and normalization\n",
    "psi = np.random.randn(2**N) + 1j*np.zeros(2**N)\n",
    "psi /= np.linalg.norm(psi) \n",
    "\n",
    "energies = []\n",
    "overlaps = []\n",
    "\n",
    "for t in times[:]:\n",
    "    H_sparse = Hamiltonian(h, J)\n",
    "    H_dense = H_sparse.toarray()\n",
    "    \n",
    "    energy = np.real(psi.conj().T @ H_dense @ psi)\n",
    "    energies.append(energy)\n",
    "\n",
    "    overlaps.append(compute_ground_overlap(psi, H_dense))\n",
    "    \n",
    "    psi = expm_multiply(-H_sparse * dt, psi)\n",
    "    psi /= np.linalg.norm(psi)"
   ]
  },
  {
   "cell_type": "markdown",
   "id": "ffd30a8d",
   "metadata": {},
   "source": [
    "e) Monitor convergence to ground state energy"
   ]
  },
  {
   "cell_type": "code",
   "execution_count": 11,
   "id": "6d0effaa",
   "metadata": {},
   "outputs": [],
   "source": [
    "# Compute energy expectation value\n",
    "def E(psi, h=1, J=1):\n",
    "    psi = psi.view(dtype=np.complex128)\n",
    "    return np.real(np.dot(psi.conjugate().T, Hamiltonian(h, J) @ psi))      # imaginary part is of order e-17 (can be discarded)\n",
    "\n",
    "E_tau = np.array([])\n",
    "tau_list = np.linspace(0, tau_max, Nsteps)\n",
    "for i in range(Nsteps):\n",
    "    E_tau = np.append(E_tau, E(psi_tau_normalized[i]))"
   ]
  },
  {
   "cell_type": "code",
   "execution_count": 12,
   "id": "b73c0440",
   "metadata": {},
   "outputs": [
    {
     "data": {
      "image/png": "[encoded data removed]",
      "text/plain": [
       "<Figure size 640x480 with 1 Axes>"
      ]
     },
     "metadata": {},
     "output_type": "display_data"
    }
   ],
   "source": [
    "# Plot energy expectation value over time tau\n",
    "plt.scatter(tau_list, E_tau, marker='.')\n",
    "\n",
    "plt.xlabel(r'Imaginary Time $\\tau$')\n",
    "plt.ylabel(r'Expected Energy $E(\\tau)$')\n",
    "plt.title('Energy convergence')\n",
    "plt.xlim(min(tau_list),max(tau_list))\n",
    "\n",
    "plt.tight_layout()\n",
    "plt.show()"
   ]
  },
  {
   "cell_type": "markdown",
   "id": "8daaf023",
   "metadata": {},
   "source": [
    "f) Check if ITP ground state is correct\n",
    "\n",
    "The ground state is twice degenerate, so our ITP state will be located in the subspace spanned by $|\\psi_\\text{GS,1}>$ and $|\\psi_\\text{GS,2}>$. We calculate the maximal overlap with one of those ground states. Additionally the following relation should hold\n",
    "\\begin{equation*}\n",
    "    |<ITP|\\psi_\\text{GS,1}>|^2 + |<ITP|\\psi_\\text{GS,2}>|^2 = 1.\n",
    "\\end{equation*}"
   ]
  },
  {
   "cell_type": "code",
   "execution_count": 78,
   "id": "1b1de478",
   "metadata": {},
   "outputs": [
    {
     "name": "stdout",
     "output_type": "stream",
     "text": [
      "Maximal overlap of ground state obtained with ITP and exact diagonalization:  0.8794572774350365\n",
      "0.9999657260591066\n",
      "ED ground state energy:  -4.027339492125851\n",
      "ITP ground state energy:  -4.027286891847819\n"
     ]
    }
   ],
   "source": [
    "ITP_groundstate = psi_tau_normalized[-1]\n",
    "exact_energies, exact_eigenstates = eigh(Hamiltonian().toarray())\n",
    "\n",
    "# compute overlap with exact eigenstates, all states are normalized\n",
    "overlaps = np.array([])\n",
    "for i in range(2):   # degenerate ground state energy -> compute overlap with both ED ground states\n",
    "    overlaps = np.append(overlaps, np.abs(np.real(np.dot(ITP_groundstate.conjugate().T, exact_eigenstates[:,i]))))  # again, complex part close to machine precision\n",
    "\n",
    "print(\"Maximal overlap of ground state obtained with ITP and exact diagonalization: \", max(overlaps)) # overlaps vary depending on overlap of random initial state with the true ground state. maximum achieved overlap: 0.9985843368309988\n",
    "print(overlaps[0]**2 + overlaps[1]**2)  # should be close to 1, but not exactly 1 due to numerical errors\n",
    "\n",
    "print(\"ED ground state energy: \", exact_energies[0])\n",
    "print(\"ITP ground state energy: \", E_tau[-1])"
   ]
  },
  {
   "cell_type": "markdown",
   "id": "95285063",
   "metadata": {},
   "source": [
    "g) Compare efficiency of ITP vs real-time adiabatic evolution\n",
    "\n",
    "The main cost occurs in the integration, which uses the RK45 method. Depending on the initial overlap with the true ground state, the ITP method requires around 1000 time steps to find a wavefunction overlapping with the ground state by ~99.99%. However, for some initial random states the resulting overlap reaches lower values. The adiabatic search requires many more time steps in the integration in order to evolve slowly enough to not leave the ground state. However, a comparison of efficiency is difficult, since the result of the adiabatic search does not match the eigenstate obtained with exact diagonalization. \n",
    "\n",
    "Additionally, the adiabatic search starts in a ground state with considerable overlap with the ground state of interest. The ITP method might lead to constantly reliable results if it would follow the same procedure. Also, other integration methods (e.g. computationally cheaper ones, like Euler's method) might work better for the time grid of adiabatic search than for the one of imaginary time propagation."
   ]
  },
  {
   "cell_type": "markdown",
   "id": "2d93fa37",
   "metadata": {},
   "source": [
    "### Run for multiple different initial states"
   ]
  },
  {
   "cell_type": "code",
   "execution_count": 120,
   "id": "c81a9ff6",
   "metadata": {},
   "outputs": [],
   "source": [
    "iterations = 200\n",
    "tau_max, Nsteps = 5_000, 1000\n",
    "h, J = 1, 1\n",
    "\n",
    "ed_energies, ed_eigenstates = eigh(Hamiltonian().toarray())\n",
    "ed_groundstate_energy = ed_energies[0]\n",
    "\n",
    "subspace_check = []\n",
    "rel_energy_error = []\n",
    "for i in range(iterations):\n",
    "    psi0 = np.random.randn(2**N) + 1j*np.zeros(2**N)\n",
    "    psi0 /= np.linalg.norm(psi0)\n",
    "\n",
    "    sol = solve_ivp(dpsi_dtau, t_span = (0, tau_max), y0 = psi0.view(dtype=np.float64), t_eval=np.linspace(0, tau_max, Nsteps))\n",
    "    psi_tau_list = sol.y.T.copy().view(dtype=np.complex128)  \n",
    "\n",
    "    itp_groundstate = psi_tau_list[-1]\n",
    "    itp_groundstate /= np.linalg.norm(itp_groundstate)\n",
    "    itp_energy = E(itp_groundstate, h, J)\n",
    "    rel_energy_error.append((itp_energy - ed_groundstate_energy) / abs(ed_groundstate_energy))\n",
    "\n",
    "    overlap = [np.real(np.dot(itp_groundstate.conjugate().T, ed_eigenstates[:,i])) for i in range(2)]\n",
    "    subspace_check.append(overlap[0]**2 + overlap[1]**2)"
   ]
  },
  {
   "cell_type": "code",
   "execution_count": 129,
   "id": "6fc768a3",
   "metadata": {},
   "outputs": [
    {
     "data": {
      "image/png": "[encoded data removed]",
      "text/plain": [
       "<Figure size 1200x500 with 2 Axes>"
      ]
     },
     "metadata": {},
     "output_type": "display_data"
    }
   ],
   "source": [
    "fig, ax = plt.subplots(1, 2, figsize=(12, 5))\n",
    "fig.suptitle(fr'ITP for {iterations} random initial states, $\\tau_{{max}} = {tau_max}$, $N_\\text{{steps}} = {Nsteps}$')\n",
    "\n",
    "ax[0].hist(subspace_check, bins=20)\n",
    "ax[0].set_xlabel('Overlap with ED ground state subspace')\n",
    "ax[0].set_ylabel('Frequency')\n",
    "\n",
    "ax[1].hist(rel_energy_error, bins=20)\n",
    "ax[1].set_xlabel('Relative energy error')\n",
    "ax[1].set_ylabel('Frequency')\n",
    "\n",
    "ax[0].text(0.27, 0.89, r'$|<ITP|\\psi_\\text{GS,1}>|^2 + |<ITP|\\psi_\\text{GS,2}>|^2$', ha='center', va='center', transform=ax[0].transAxes)\n",
    "ax[1].text(0.77, 0.89, r'$(E_{ITP} - E_{ED}) / |E_{ED}|$', ha='center', va='center', transform=ax[1].transAxes)\n",
    "\n",
    "\n",
    "plt.tight_layout()\n"
   ]
  }
 ],
 "metadata": {
  "kernelspec": {
   "display_name": "master-thesis-venv",
   "language": "python",
   "name": "python3"
  },
  "language_info": {
   "codemirror_mode": {
    "name": "ipython",
    "version": 3
   },
   "file_extension": ".py",
   "mimetype": "text/x-python",
   "name": "python",
   "nbconvert_exporter": "python",
   "pygments_lexer": "ipython3",
   "version": "3.13.3"
  }
 },
 "nbformat": 4,
 "nbformat_minor": 5
}

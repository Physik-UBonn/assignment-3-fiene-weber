{
 "cells": [
  {
   "cell_type": "markdown",
   "id": "6925826c",
   "metadata": {},
   "source": [
    "# H.4] Imaginary Time Evolution\n",
    "d) Numerically integrate random initial state up to certain time $\\tau_{\\text{max}}$"
   ]
  },
  {
   "cell_type": "code",
   "execution_count": 227,
   "id": "8287783b",
   "metadata": {},
   "outputs": [],
   "source": [
    "import numpy as np\n",
    "import matplotlib.pyplot as plt\n",
    "from scipy.integrate import solve_ivp\n",
    "from functools import reduce\n",
    "from scipy.sparse import identity, kron, csr_matrix\n",
    "from scipy.linalg import expm, eigh"
   ]
  },
  {
   "cell_type": "code",
   "execution_count": 228,
   "id": "06389d42",
   "metadata": {},
   "outputs": [],
   "source": [
    "# Set parameters\n",
    "N = 4\n",
    "tau_max = 200\n",
    "Nsteps = 1000\n",
    "dt = tau_max/Nsteps"
   ]
  },
  {
   "cell_type": "code",
   "execution_count": 229,
   "id": "d04ed287",
   "metadata": {},
   "outputs": [
    {
     "name": "stdout",
     "output_type": "stream",
     "text": [
      "Initial state |psi(0)> =  [ 0.12888801+0.j -0.00296375+0.j  0.37848325+0.j -0.12176003+0.j\n",
      " -0.11230456+0.j -0.10339435+0.j -0.37766542+0.j  0.38714894+0.j\n",
      "  0.03465901+0.j -0.34211366+0.j  0.21936548+0.j  0.03238375+0.j\n",
      "  0.44360444+0.j  0.24365881+0.j  0.00883754+0.j -0.29298517+0.j]\n"
     ]
    }
   ],
   "source": [
    "# Create random initial state\n",
    "psi0 = np.random.randn(2**N) + 1j*np.zeros(2**N)\n",
    "\n",
    "# Normalize\n",
    "psi0 /= np.linalg.norm(psi0) \n",
    "print('Initial state |psi(0)> = ', psi0)"
   ]
  },
  {
   "cell_type": "code",
   "execution_count": 230,
   "id": "b8ac4135",
   "metadata": {},
   "outputs": [],
   "source": [
    "# Create Hamiltonian as matrix as done in last sheet:\n",
    "\n",
    "# Create csr Pauli matrices\n",
    "id = identity(2, format='csr')\n",
    "sigma_x = csr_matrix([[0, 1], [1, 0]], dtype=np.float64)\n",
    "sigma_z = csr_matrix([[1, 0], [0, -1]], dtype=np.float64)\n",
    "\n",
    "def kronecker(operators):\n",
    "    # reduce calls the function (first arg) recursively on the list (second arg)\n",
    "    return reduce(kron, operators)\n",
    "\n",
    "def build_operator(operator, ind, L):\n",
    "    # list of L identity operators\n",
    "    operators = [id] * L\n",
    "\n",
    "    # replace the ind-th operator with the given operator\n",
    "    operators[ind] = operator\n",
    "\n",
    "    # return the kronecker product of all identity matrices and the operator on site ind\n",
    "    return csr_matrix(kronecker(operators))\n",
    "\n",
    "def all_operators(operator):\n",
    "    # a list of L operators, each one acting on a different site, otherwise identity\n",
    "    return [build_operator(operator, j, N) for j in range(N)]\n",
    "\n",
    "def Hamiltonian(h=1, J=1):\n",
    "    # initialize matrices\n",
    "    H = csr_matrix((2**N, 2**N), dtype=np.complex128)\n",
    "    sz_list = all_operators(sigma_z)\n",
    "    sx_list = all_operators(sigma_x)\n",
    "\n",
    "    for i in range(N-1):\n",
    "        H += J*(sz_list[i] @ sz_list[i+1]) + h*(sx_list[i])\n",
    "    return H"
   ]
  },
  {
   "cell_type": "code",
   "execution_count": 231,
   "id": "79147fe9",
   "metadata": {},
   "outputs": [],
   "source": [
    "# Define derivative using imaginary time SEQ\n",
    "def dpsi_dtau(tau, psi, h=1, J=1):\n",
    "    psi = psi.view(dtype=np.complex128) / np.linalg.norm(psi.view(dtype=np.complex128))\n",
    "    return (-Hamiltonian(h,J) @ psi).view(dtype=np.float64)\n",
    "\n",
    "# Numerically integrate this state\n",
    "sol = solve_ivp(dpsi_dtau, t_span = (0, tau_max), y0 = psi0.view(dtype=np.float64), t_eval=np.linspace(0, tau_max, Nsteps))\n",
    "\n",
    "# Normalize wave functions of each step dt\n",
    "psi_tau_list = sol.y.T.copy().view(dtype=np.complex128)   # copy to ensure that the memory is laid out contiguously before using changing the data type to complex128\n",
    "psi_tau_normalized = np.array([psi / np.linalg.norm(psi) for psi in psi_tau_list])"
   ]
  },
  {
   "cell_type": "markdown",
   "id": "ffd30a8d",
   "metadata": {},
   "source": [
    "e) Monitor convergence to ground state energy"
   ]
  },
  {
   "cell_type": "code",
   "execution_count": 232,
   "id": "6d0effaa",
   "metadata": {},
   "outputs": [],
   "source": [
    "# Compute energy expectation value\n",
    "def E(psi, h=1, J=1):\n",
    "    psi = psi.view(dtype=np.complex128)\n",
    "    return np.real(np.dot(psi.conjugate().T, Hamiltonian(h, J) @ psi))      # imaginary part is of order e-17 (can be discarded)\n",
    "\n",
    "E_tau = np.array([])\n",
    "tau_list = np.linspace(0, tau_max, Nsteps)\n",
    "for i in range(Nsteps):\n",
    "    E_tau = np.append(E_tau, E(psi_tau_normalized[i]))"
   ]
  },
  {
   "cell_type": "code",
   "execution_count": 233,
   "id": "b73c0440",
   "metadata": {},
   "outputs": [
    {
     "data": {
      "image/png": "[encoded data removed]",
      "text/plain": [
       "<Figure size 640x480 with 1 Axes>"
      ]
     },
     "metadata": {},
     "output_type": "display_data"
    }
   ],
   "source": [
    "# Plot energy expectation value over time tau\n",
    "plt.scatter(tau_list, E_tau, marker='.')\n",
    "\n",
    "plt.xlabel(r'Imaginary Time $\\tau$')\n",
    "plt.ylabel(r'Expected Energy $E(\\tau)$')\n",
    "plt.title('Energy convergence')\n",
    "plt.xlim(min(tau_list),max(tau_list))\n",
    "\n",
    "plt.tight_layout()\n",
    "plt.show()"
   ]
  },
  {
   "cell_type": "markdown",
   "id": "8daaf023",
   "metadata": {},
   "source": [
    "f) Check if ITP ground state is correct"
   ]
  },
  {
   "cell_type": "code",
   "execution_count": 234,
   "id": "1b1de478",
   "metadata": {},
   "outputs": [
    {
     "name": "stdout",
     "output_type": "stream",
     "text": [
      "Overlap of ground state obtained with ITP and exact diagonalization:  0.998822201290321\n",
      "ED ground state energy:  -4.027339492125851\n",
      "ITP ground state energy:  -4.02371001515041\n"
     ]
    }
   ],
   "source": [
    "ITP_groundstate = psi_tau_normalized[-1]\n",
    "exact_energies, exact_eigenstates = eigh(Hamiltonian().toarray())\n",
    "\n",
    "\n",
    "overlaps = np.array([])\n",
    "for i in range(2):   # degenerate ground state energy -> compute overlap with both ED ground states\n",
    "    overlaps = np.append(overlaps, np.real(np.dot(ITP_groundstate.conjugate().T, exact_eigenstates[:,i])))  # again, complex part close to machine precision\n",
    "\n",
    "print(\"Overlap of ground state obtained with ITP and exact diagonalization: \", max(overlaps)) # overlaps vary depending on overlap of random initial state with the true ground state. maximum achieved overlap: 0.9985843368309988\n",
    "print(\"ED ground state energy: \", exact_energies[0])\n",
    "print(\"ITP ground state energy: \", E_tau[-1])"
   ]
  },
  {
   "cell_type": "markdown",
   "id": "95285063",
   "metadata": {},
   "source": [
    "g) Compare efficiency of ITP vs real-time adiabatic evolution\n",
    "\n",
    "The main cost occurs in the integration, which uses the RK45 method. Depending on the initial overlap with the true ground state, the ITP method requires around 1000 time steps to find a wavefunction overlapping with the ground state by ~99%. However, for some initial random states the resulting overlap only reaches ~75%. The adiabatic search requires many more time steps in the integration in order to evolve slowly enough to not leave the ground state. However, a comparison of efficiency is difficult, since the result of the adiabatic search does not match the eigenstate obtained with exact diagonalization. \n",
    "\n",
    "Additionally, the adiabatic search starts in a ground state with considerable overlap with the ground state of interest. The ITP method might lead to constantly reliable results if it would follow the same procedure. Also, other integration methods (e.g. computationally cheaper ones, like Euler's method) might work better for the time grid of adiabatic search than for the one of imaginary time propagation."
   ]
  }
 ],
 "metadata": {
  "kernelspec": {
   "display_name": "Python 3",
   "language": "python",
   "name": "python3"
  },
  "language_info": {
   "codemirror_mode": {
    "name": "ipython",
    "version": 3
   },
   "file_extension": ".py",
   "mimetype": "text/x-python",
   "name": "python",
   "nbconvert_exporter": "python",
   "pygments_lexer": "ipython3",
   "version": "3.12.3"
  }
 },
 "nbformat": 4,
 "nbformat_minor": 5
}

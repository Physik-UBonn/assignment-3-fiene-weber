{
 "cells": [
  {
   "cell_type": "markdown",
   "id": "6925826c",
   "metadata": {},
   "source": [
    "# H.4] Imaginary Time Evolution\n",
    "d) Numerically integrate random initial state up to certain time $\\tau_{\\text{max}}$"
   ]
  },
  {
   "cell_type": "code",
   "execution_count": 64,
   "id": "8287783b",
   "metadata": {},
   "outputs": [],
   "source": [
    "import numpy as np\n",
    "import matplotlib.pyplot as plt\n",
    "from scipy.integrate import solve_ivp\n",
    "from functools import reduce\n",
    "from scipy.sparse import identity, kron, csr_matrix"
   ]
  },
  {
   "cell_type": "code",
   "execution_count": 50,
   "id": "06389d42",
   "metadata": {},
   "outputs": [],
   "source": [
    "# Set parameters\n",
    "N = 4\n",
    "tau_max = 5\n",
    "Nsteps = 100\n",
    "dt = tau_max/Nsteps"
   ]
  },
  {
   "cell_type": "code",
   "execution_count": 51,
   "id": "d04ed287",
   "metadata": {},
   "outputs": [
    {
     "name": "stdout",
     "output_type": "stream",
     "text": [
      "Initial state |psi(0)> =  [ 0.07742688+0.1197014j  -0.12043332-0.02262699j -0.05086578+0.00077554j\n",
      "  0.08261864-0.12298562j -0.13213929+0.3471961j  -0.03122999+0.35800581j\n",
      " -0.29375584-0.02650945j -0.14564983+0.32031625j  0.16973893+0.05216668j\n",
      "  0.0624873 -0.19387596j -0.07790286-0.01821746j  0.36432349-0.22089787j\n",
      " -0.21079927+0.00713022j -0.16333706+0.00298429j -0.18104677-0.22384998j\n",
      " -0.07669057-0.20313433j]\n"
     ]
    }
   ],
   "source": [
    "# Create random initial state\n",
    "psi0 = np.random.randn(2**N) + 1j*np.random.randn(2**N)\n",
    "\n",
    "# Normalize\n",
    "psi0 /= np.linalg.norm(psi0) \n",
    "print('Initial state |psi(0)> = ', psi0)"
   ]
  },
  {
   "cell_type": "code",
   "execution_count": 52,
   "id": "b8ac4135",
   "metadata": {},
   "outputs": [],
   "source": [
    "# Create Hamiltonian as matrix as done in last sheet:\n",
    "\n",
    "# Create csr Pauli matrices\n",
    "id = identity(2, format='csr')\n",
    "sigma_x = csr_matrix([[0, 1], [1, 0]], dtype=np.float64)\n",
    "sigma_z = csr_matrix([[1, 0], [0, -1]], dtype=np.float64)\n",
    "\n",
    "def kronecker(operators):\n",
    "    # reduce calls the function (first arg) recursively on the list (second arg)\n",
    "    return reduce(kron, operators)\n",
    "\n",
    "def build_operator(operator, ind, L):\n",
    "    # list of L identity operators\n",
    "    operators = [id] * L\n",
    "\n",
    "    # replace the ind-th operator with the given operator\n",
    "    operators[ind] = operator\n",
    "\n",
    "    # return the kronecker product of all identity matrices and the operator on site ind\n",
    "    return csr_matrix(kronecker(operators))\n",
    "\n",
    "def all_operators(operator):\n",
    "    # a list of L operators, each one acting on a different site, otherwise identity\n",
    "    return [build_operator(operator, j, N) for j in range(N)]\n",
    "\n",
    "def Hamiltonian(h=1, J=1):\n",
    "    # initialize matrices\n",
    "    H = csr_matrix((2**N, 2**N), dtype=np.complex128)\n",
    "    sz_list = all_operators(sigma_z)\n",
    "    sx_list = all_operators(sigma_x)\n",
    "\n",
    "    for i in range(N-1):\n",
    "        H += J*(sz_list[i] @ sz_list[i+1]) + h*(sx_list[i])\n",
    "    return H"
   ]
  },
  {
   "cell_type": "code",
   "execution_count": null,
   "id": "79147fe9",
   "metadata": {},
   "outputs": [
    {
     "name": "stdout",
     "output_type": "stream",
     "text": [
      "(16,)\n"
     ]
    }
   ],
   "source": [
    "# Define derivative using imaginary time SEQ\n",
    "def dpsi_dtau(tau, psi, h=1, J=1):\n",
    "    psi = psi.view(dtype=np.complex128)\n",
    "    return (Hamiltonian(h,J) @ psi).view(dtype=np.float64)\n",
    "\n",
    "# Numerically integrate this state using real part of initial state |psi(0)>\n",
    "sol = solve_ivp(dpsi_dtau, t_span = (0, tau_max), y0 = psi0.view(dtype=np.float64), t_eval=np.linspace(0, tau_max, Nsteps))\n",
    "\n",
    "# Normalize wave functions of each step dt\n",
    "psi_tau_list = sol.y.T.copy().view(dtype=np.complex128)   # copy to ensure that the memory is laid out cpntiguously before using  changing the data type to complex128\n",
    "psi_tau_normalized = np.array([psi / np.linalg.norm(psi) for psi in psi_tau_list])"
   ]
  },
  {
   "cell_type": "markdown",
   "id": "ffd30a8d",
   "metadata": {},
   "source": [
    "e) Monitor convergence to ground state energy"
   ]
  },
  {
   "cell_type": "code",
   "execution_count": null,
   "id": "6d0effaa",
   "metadata": {},
   "outputs": [
    {
     "name": "stdout",
     "output_type": "stream",
     "text": [
      "100 100\n"
     ]
    }
   ],
   "source": [
    "# Compute energy expectation value\n",
    "def E(psi, h=1, J=1):\n",
    "    return np.real(np.vdot(psi, Hamiltonian(h,J) @ psi))\n",
    "\n",
    "t = 0\n",
    "E_tau = np.array([])\n",
    "tau_list = np.linspace(0, tau_max, Nsteps)\n",
    "for i in range(Nsteps):\n",
    "    E_tau = np.append(E_tau, E(psi_tau_normalized[i]))"
   ]
  },
  {
   "cell_type": "code",
   "execution_count": 71,
   "id": "b73c0440",
   "metadata": {},
   "outputs": [
    {
     "data": {
      "image/png": "[encoded data removed]",
      "text/plain": [
       "<Figure size 640x480 with 1 Axes>"
      ]
     },
     "metadata": {},
     "output_type": "display_data"
    }
   ],
   "source": [
    "# Plot energy expectation value over time tau\n",
    "plt.scatter(tau_list,E_tau, marker='.')\n",
    "\n",
    "plt.xlabel(r'Imaginary Time $\\tau$')\n",
    "plt.ylabel(r'Expected Energy $E(\\tau)$')\n",
    "plt.title('Energy convergence')\n",
    "plt.xlim(min(tau_list),max(tau_list))\n",
    "\n",
    "plt.tight_layout()\n",
    "plt.show()"
   ]
  },
  {
   "cell_type": "markdown",
   "id": "8daaf023",
   "metadata": {},
   "source": [
    "f) Check if ITP ground state is correct"
   ]
  },
  {
   "cell_type": "markdown",
   "id": "95285063",
   "metadata": {},
   "source": [
    "g) Compare efficiency of ITP vs real-time adiabatic evolution"
   ]
  }
 ],
 "metadata": {
  "kernelspec": {
   "display_name": "Python 3",
   "language": "python",
   "name": "python3"
  },
  "language_info": {
   "codemirror_mode": {
    "name": "ipython",
    "version": 3
   },
   "file_extension": ".py",
   "mimetype": "text/x-python",
   "name": "python",
   "nbconvert_exporter": "python",
   "pygments_lexer": "ipython3",
   "version": "3.12.3"
  }
 },
 "nbformat": 4,
 "nbformat_minor": 5
}

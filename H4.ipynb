{
 "cells": [
  {
   "cell_type": "markdown",
   "id": "6925826c",
   "metadata": {},
   "source": [
    "# H.4] Imaginary Time Evolution\n",
    "d) Numerically integrate random initial state up to certain time $\\tau_{\\text{max}}$"
   ]
  },
  {
   "cell_type": "code",
   "execution_count": 236,
   "id": "8287783b",
   "metadata": {},
   "outputs": [],
   "source": [
    "import numpy as np\n",
    "import matplotlib.pyplot as plt\n",
    "from scipy.integrate import solve_ivp\n",
    "from functools import reduce\n",
    "from scipy.sparse import identity, kron, csr_matrix\n",
    "from scipy.linalg import expm, eigh"
   ]
  },
  {
   "cell_type": "code",
   "execution_count": 237,
   "id": "06389d42",
   "metadata": {},
   "outputs": [],
   "source": [
    "# Set parameters\n",
    "N = 4\n",
    "tau_max = 25\n",
    "Nsteps = 500\n",
    "dt = tau_max/Nsteps"
   ]
  },
  {
   "cell_type": "code",
   "execution_count": 238,
   "id": "d04ed287",
   "metadata": {},
   "outputs": [
    {
     "name": "stdout",
     "output_type": "stream",
     "text": [
      "Initial state |psi(0)> =  [ 0.23545023+0.07546657j  0.19155853+0.23155589j  0.00516623-0.41743094j\n",
      " -0.05226412+0.15500323j -0.14279417+0.11638288j -0.01513106-0.14134485j\n",
      "  0.01793516+0.22200636j  0.13629467+0.11361735j  0.22868221+0.16306075j\n",
      "  0.16946088-0.14547207j  0.08558644-0.20413925j  0.04369713-0.28105273j\n",
      "  0.04878558+0.25014354j  0.0295837 -0.14414876j  0.31425126+0.05184524j\n",
      " -0.00115406-0.25607779j]\n"
     ]
    }
   ],
   "source": [
    "# Create random initial state\n",
    "psi0 = np.random.randn(2**N) + 1j*np.random.randn(2**N)\n",
    "\n",
    "# Normalize\n",
    "psi0 /= np.linalg.norm(psi0) \n",
    "print('Initial state |psi(0)> = ', psi0)"
   ]
  },
  {
   "cell_type": "code",
   "execution_count": null,
   "id": "b8ac4135",
   "metadata": {},
   "outputs": [],
   "source": [
    "# Create Hamiltonian as matrix as done in last sheet:\n",
    "\n",
    "# Create csr Pauli matrices\n",
    "id = identity(2, format='csr')\n",
    "sigma_x = csr_matrix([[0, 1], [1, 0]], dtype=np.float64)\n",
    "sigma_z = csr_matrix([[1, 0], [0, -1]], dtype=np.float64)\n",
    "\n",
    "def kronecker(operators):\n",
    "    # reduce calls the function (first arg) recursively on the list (second arg)\n",
    "    return reduce(kron, operators)\n",
    "\n",
    "def build_operator(operator, ind, L):\n",
    "    # list of L identity operators\n",
    "    operators = [id] * L\n",
    "\n",
    "    # replace the ind-th operator with the given operator\n",
    "    operators[ind] = operator\n",
    "\n",
    "    # return the kronecker product of all identity matrices and the operator on site ind\n",
    "    return csr_matrix(kronecker(operators))\n",
    "\n",
    "def all_operators(operator):\n",
    "    # a list of L operators, each one acting on a different site, otherwise identity\n",
    "    return [build_operator(operator, j, N) for j in range(N)]\n",
    "\n",
    "def Hamiltonian(h=1, J=1):\n",
    "    # initialize matrices\n",
    "    H = csr_matrix((2**N, 2**N), dtype=np.complex128)\n",
    "    sz_list = all_operators(sigma_z)\n",
    "    sx_list = all_operators(sigma_x)\n",
    "\n",
    "    for i in range(N-1):\n",
    "        H = J*(sz_list[i] @ sz_list[i+1]) + h*(sx_list[i])\n",
    "    return H"
   ]
  },
  {
   "cell_type": "code",
   "execution_count": 240,
   "id": "79147fe9",
   "metadata": {},
   "outputs": [],
   "source": [
    "# Define derivative using imaginary time SEQ\n",
    "def dpsi_dtau(tau, psi, h=1, J=1):\n",
    "    psi = psi.view(dtype=np.complex128)\n",
    "    return (Hamiltonian(h,J) @ psi).view(dtype=np.float64)\n",
    "\n",
    "# Numerically integrate this state using real part of initial state |psi(0)>\n",
    "sol = solve_ivp(dpsi_dtau, t_span = (0, tau_max), y0 = psi0.view(dtype=np.float64), t_eval=np.linspace(0, tau_max, Nsteps))\n",
    "\n",
    "# Normalize wave functions of each step dt\n",
    "psi_tau_list = sol.y.T.copy().view(dtype=np.complex128)   # copy to ensure that the memory is laid out cpntiguously before using  changing the data type to complex128\n",
    "psi_tau_normalized = np.array([psi / np.linalg.norm(psi) for psi in psi_tau_list])"
   ]
  },
  {
   "cell_type": "markdown",
   "id": "ffd30a8d",
   "metadata": {},
   "source": [
    "e) Monitor convergence to ground state energy"
   ]
  },
  {
   "cell_type": "code",
   "execution_count": 241,
   "id": "6d0effaa",
   "metadata": {},
   "outputs": [],
   "source": [
    "# Compute energy expectation value\n",
    "def E(psi, h=1, J=1):\n",
    "    return np.real(np.vdot(psi, Hamiltonian(h,J) @ psi))\n",
    "\n",
    "t = 0\n",
    "E_tau = np.array([])\n",
    "tau_list = np.linspace(0, tau_max, Nsteps)\n",
    "for i in range(Nsteps):\n",
    "    E_tau = np.append(E_tau, E(psi_tau_normalized[i]))"
   ]
  },
  {
   "cell_type": "code",
   "execution_count": 242,
   "id": "b73c0440",
   "metadata": {},
   "outputs": [
    {
     "data": {
      "image/png": "[encoded data removed]",
      "text/plain": [
       "<Figure size 640x480 with 1 Axes>"
      ]
     },
     "metadata": {},
     "output_type": "display_data"
    }
   ],
   "source": [
    "# Plot energy expectation value over time tau\n",
    "plt.scatter(tau_list,E_tau, marker='.')\n",
    "\n",
    "plt.xlabel(r'Imaginary Time $\\tau$')\n",
    "plt.ylabel(r'Expected Energy $E(\\tau)$')\n",
    "plt.title('Energy convergence')\n",
    "plt.xlim(min(tau_list),max(tau_list))\n",
    "\n",
    "plt.tight_layout()\n",
    "plt.show()"
   ]
  },
  {
   "cell_type": "markdown",
   "id": "8daaf023",
   "metadata": {},
   "source": [
    "f) Check if ITP ground state is correct"
   ]
  },
  {
   "cell_type": "code",
   "execution_count": 243,
   "id": "1b1de478",
   "metadata": {},
   "outputs": [
    {
     "name": "stdout",
     "output_type": "stream",
     "text": [
      "Overlap of ground states obtained with ITP and exact diagonalization:  1.2140159871521397e-17\n",
      "maximum achieved overlap with any eigenvector: 0.8922335536976701\n",
      "(found for energy =  4.027339492125848 )\n"
     ]
    }
   ],
   "source": [
    "ITP_groundstate = psi_tau_normalized[-1]\n",
    "exact_energies, exact_eigenstates = eigh(Hamiltonian().toarray())\n",
    "\n",
    "overlaps = np.array([])\n",
    "for i in range(2**N):\n",
    "    overlaps = np.append(overlaps, np.vdot(ITP_groundstate, exact_eigenstates[:,i]))\n",
    "\n",
    "print(\"Overlap of ground states obtained with ITP and exact diagonalization: \", np.abs(overlaps[0]))\n",
    "print('maximum achieved overlap with any eigenvector:', max(np.abs(overlaps)))\n",
    "print('(found for energy = ', exact_energies[np.argmax(np.abs(overlaps))],\")\")\n",
    "# PROBLEM: ITP Groundstate matches highest state -> sign error in Hamiltonian leading to positive energies instead of negative??\n",
    "# The absolute maximum was 0.9816 with tau=5. Result depends on initial random overlap"
   ]
  },
  {
   "cell_type": "markdown",
   "id": "95285063",
   "metadata": {},
   "source": [
    "g) Compare efficiency of ITP vs real-time adiabatic evolution"
   ]
  }
 ],
 "metadata": {
  "kernelspec": {
   "display_name": "Python 3",
   "language": "python",
   "name": "python3"
  },
  "language_info": {
   "codemirror_mode": {
    "name": "ipython",
    "version": 3
   },
   "file_extension": ".py",
   "mimetype": "text/x-python",
   "name": "python",
   "nbconvert_exporter": "python",
   "pygments_lexer": "ipython3",
   "version": "3.12.3"
  }
 },
 "nbformat": 4,
 "nbformat_minor": 5
}
